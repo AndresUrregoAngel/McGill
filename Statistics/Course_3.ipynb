{
 "cells": [
  {
   "cell_type": "code",
   "execution_count": 47,
   "metadata": {},
   "outputs": [
    {
     "name": "stdout",
     "output_type": "stream",
     "text": [
      "     Unnamed: 0   Income  Limit  Rating  Cards  Age  Education  Gender  \\\n",
      "0             1   14.891   3606     283      2   34         11    Male   \n",
      "1             2  106.025   6645     483      3   82         15  Female   \n",
      "2             3  104.593   7075     514      4   71         11    Male   \n",
      "3             4  148.924   9504     681      3   36         11  Female   \n",
      "4             5   55.882   4897     357      2   68         16    Male   \n",
      "5             6   80.180   8047     569      4   77         10    Male   \n",
      "6             7   20.996   3388     259      2   37         12  Female   \n",
      "7             8   71.408   7114     512      2   87          9    Male   \n",
      "8             9   15.125   3300     266      5   66         13  Female   \n",
      "9            10   71.061   6819     491      3   41         19  Female   \n",
      "10           11   63.095   8117     589      4   30         14    Male   \n",
      "11           12   15.045   1311     138      3   64         16    Male   \n",
      "12           13   80.616   5308     394      1   57          7  Female   \n",
      "13           14   43.682   6922     511      1   49          9    Male   \n",
      "14           15   19.144   3291     269      2   75         13  Female   \n",
      "15           16   20.089   2525     200      3   57         15  Female   \n",
      "16           17   53.598   3714     286      3   73         17  Female   \n",
      "17           18   36.496   4378     339      3   69         15  Female   \n",
      "18           19   49.570   6384     448      1   28          9  Female   \n",
      "19           20   42.079   6626     479      2   44          9    Male   \n",
      "20           21   17.700   2860     235      4   63         16  Female   \n",
      "21           22   37.348   6378     458      1   72         17  Female   \n",
      "22           23   20.103   2631     213      3   61         10    Male   \n",
      "23           24   64.027   5179     398      5   48          8    Male   \n",
      "24           25   10.742   1757     156      3   57         15  Female   \n",
      "25           26   14.090   4323     326      5   25         16  Female   \n",
      "26           27   42.471   3625     289      6   44         12  Female   \n",
      "27           28   32.793   4534     333      2   44         16    Male   \n",
      "28           29  186.634  13414     949      2   41         14  Female   \n",
      "29           30   26.813   5611     411      4   55         16  Female   \n",
      "..          ...      ...    ...     ...    ...  ...        ...     ...   \n",
      "370         371   35.610   6135     466      4   40         12    Male   \n",
      "371         372   39.116   2150     173      4   75         15    Male   \n",
      "372         373   19.782   3782     293      2   46         16  Female   \n",
      "373         374   55.412   5354     383      2   37         16  Female   \n",
      "374         375   29.400   4840     368      3   76         18  Female   \n",
      "375         376   20.974   5673     413      5   44         16  Female   \n",
      "376         377   87.625   7167     515      2   46         10  Female   \n",
      "377         378   28.144   1567     142      3   51         10    Male   \n",
      "378         379   19.349   4941     366      1   33         19    Male   \n",
      "379         380   53.308   2860     214      1   84         10    Male   \n",
      "380         381  115.123   7760     538      3   83         14  Female   \n",
      "381         382  101.788   8029     574      2   84         11    Male   \n",
      "382         383   24.824   5495     409      1   33          9    Male   \n",
      "383         384   14.292   3274     282      9   64          9    Male   \n",
      "384         385   20.088   1870     180      3   76         16    Male   \n",
      "385         386   26.400   5640     398      3   58         15  Female   \n",
      "386         387   19.253   3683     287      4   57         10    Male   \n",
      "387         388   16.529   1357     126      3   62          9    Male   \n",
      "388         389   37.878   6827     482      2   80         13  Female   \n",
      "389         390   83.948   7100     503      2   44         18    Male   \n",
      "390         391  135.118  10578     747      3   81         15  Female   \n",
      "391         392   73.327   6555     472      2   43         15  Female   \n",
      "392         393   25.974   2308     196      2   24         10    Male   \n",
      "393         394   17.316   1335     138      2   65         13    Male   \n",
      "394         395   49.794   5758     410      4   40          8    Male   \n",
      "395         396   12.096   4100     307      3   32         13    Male   \n",
      "396         397   13.364   3838     296      5   65         17    Male   \n",
      "397         398   57.872   4171     321      5   67         12  Female   \n",
      "398         399   37.728   2525     192      1   44         13    Male   \n",
      "399         400   18.701   5524     415      5   64          7  Female   \n",
      "\n",
      "    Student Married         Ethnicity  Balance  \n",
      "0        No     Yes         Caucasian      333  \n",
      "1       Yes     Yes             Asian      903  \n",
      "2        No      No             Asian      580  \n",
      "3        No      No             Asian      964  \n",
      "4        No     Yes         Caucasian      331  \n",
      "5        No      No         Caucasian     1151  \n",
      "6        No      No  African American      203  \n",
      "7        No      No             Asian      872  \n",
      "8        No      No         Caucasian      279  \n",
      "9       Yes     Yes  African American     1350  \n",
      "10       No     Yes         Caucasian     1407  \n",
      "11       No      No         Caucasian        0  \n",
      "12       No     Yes             Asian      204  \n",
      "13       No     Yes         Caucasian     1081  \n",
      "14       No      No  African American      148  \n",
      "15       No     Yes  African American        0  \n",
      "16       No     Yes  African American        0  \n",
      "17       No     Yes             Asian      368  \n",
      "18       No     Yes             Asian      891  \n",
      "19       No      No             Asian     1048  \n",
      "20       No      No             Asian       89  \n",
      "21       No      No         Caucasian      968  \n",
      "22       No     Yes  African American        0  \n",
      "23       No     Yes  African American      411  \n",
      "24       No      No         Caucasian        0  \n",
      "25       No     Yes  African American      671  \n",
      "26      Yes      No         Caucasian      654  \n",
      "27       No      No  African American      467  \n",
      "28       No     Yes  African American     1809  \n",
      "29       No      No         Caucasian      915  \n",
      "..      ...     ...               ...      ...  \n",
      "370      No      No         Caucasian      992  \n",
      "371      No      No         Caucasian        0  \n",
      "372     Yes      No         Caucasian      840  \n",
      "373     Yes     Yes         Caucasian     1003  \n",
      "374      No     Yes         Caucasian      588  \n",
      "375      No     Yes         Caucasian     1000  \n",
      "376      No      No  African American      767  \n",
      "377      No     Yes         Caucasian        0  \n",
      "378      No     Yes         Caucasian      717  \n",
      "379      No     Yes         Caucasian        0  \n",
      "380      No      No  African American      661  \n",
      "381      No     Yes         Caucasian      849  \n",
      "382     Yes      No         Caucasian     1352  \n",
      "383      No     Yes         Caucasian      382  \n",
      "384      No      No  African American        0  \n",
      "385      No      No             Asian      905  \n",
      "386      No      No  African American      371  \n",
      "387      No      No             Asian        0  \n",
      "388      No      No         Caucasian     1129  \n",
      "389      No      No         Caucasian      806  \n",
      "390      No     Yes             Asian     1393  \n",
      "391      No      No         Caucasian      721  \n",
      "392      No      No             Asian        0  \n",
      "393      No      No  African American        0  \n",
      "394      No      No         Caucasian      734  \n",
      "395      No     Yes         Caucasian      560  \n",
      "396      No      No  African American      480  \n",
      "397      No     Yes         Caucasian      138  \n",
      "398      No     Yes         Caucasian        0  \n",
      "399      No      No             Asian      966  \n",
      "\n",
      "[400 rows x 12 columns]\n"
     ]
    }
   ],
   "source": [
    "import pandas as pd\n",
    "\n",
    "data = pd.read_csv('/home/andrw/script/repository/McGill/data/Credit.csv')\n",
    "print(data)"
   ]
  },
  {
   "cell_type": "code",
   "execution_count": 48,
   "metadata": {},
   "outputs": [
    {
     "name": "stdout",
     "output_type": "stream",
     "text": [
      "            balance        income\n",
      "count  10000.000000  10000.000000\n",
      "mean     835.374886  33516.981876\n",
      "std      483.714985  13336.639563\n",
      "min        0.000000    771.967729\n",
      "25%      481.731105  21340.462903\n",
      "50%      823.636973  34552.644802\n",
      "75%     1166.308386  43807.729272\n",
      "max     2654.322576  73554.233495\n",
      "  default student     balance        income\n",
      "1      No      No  729.526495  44361.625074\n",
      "2      No     Yes  817.180407  12106.134700\n",
      "  default student      balance        income  default_factorization\n",
      "1      No      No   729.526495  44361.625074                      0\n",
      "2      No     Yes   817.180407  12106.134700                      0\n",
      "3      No      No  1073.549164  31767.138947                      0\n",
      "4      No      No   529.250605  35704.493935                      0\n",
      "5      No      No   785.655883  38463.495879                      0\n"
     ]
    }
   ],
   "source": [
    "info = pd.read_excel('/home/andrw/script/repository/ycbs255/jupyter/data/Default.xlsx')\n",
    "\n",
    "print(info.describe())\n",
    "print(info.head(n=2))\n",
    "\n",
    "# Transforming a clasification variable to 0 or 1 with factorization\n",
    "\n",
    "info['default_factorization'] =  info.default.factorize()[0]\n",
    "#info[['default','student']] = info[['default','student']].stack().rank(method='dense').unstack()  #\n",
    "#info = info.apply(lambda x : info.factorize()[0])\n",
    "print(info.head(n=5))\n"
   ]
  },
  {
   "cell_type": "code",
   "execution_count": 52,
   "metadata": {},
   "outputs": [
    {
     "name": "stderr",
     "output_type": "stream",
     "text": [
      "/home/andrw/anaconda3/lib/python3.6/site-packages/sklearn/utils/validation.py:578: DataConversionWarning: A column-vector y was passed when a 1d array was expected. Please change the shape of y to (n_samples, ), for example using ravel().\n",
      "  y = column_or_1d(y, warn=True)\n"
     ]
    },
    {
     "data": {
      "text/plain": [
       "LogisticRegression(C=1.0, class_weight=None, dual=False, fit_intercept=True,\n",
       "          intercept_scaling=1, max_iter=100, multi_class='ovr', n_jobs=1,\n",
       "          penalty='l2', random_state=None, solver='liblinear', tol=0.0001,\n",
       "          verbose=0, warm_start=False)"
      ]
     },
     "execution_count": 52,
     "metadata": {},
     "output_type": "execute_result"
    }
   ],
   "source": [
    "from sklearn.linear_model import LogisticRegression\n",
    "\n",
    "X = info[['balance']]\n",
    "y = info[['default']]\n",
    "lr = LogisticRegression()\n",
    "lr.fit(X,y)  # You get the coefitients"
   ]
  },
  {
   "cell_type": "code",
   "execution_count": 53,
   "metadata": {},
   "outputs": [
    {
     "name": "stdout",
     "output_type": "stream",
     "text": [
      "[[ 0.90815806  0.09184194]\n",
      " [ 0.4750484   0.5249516 ]]\n",
      "['No' 'Yes']\n"
     ]
    }
   ],
   "source": [
    "import numpy as np\n",
    "X_pred = np.array([1500,2000]).reshape(-1,1) # you can use -1 always for 1 column or (2,1)\n",
    "\n",
    "print(lr.predict_proba(X_pred))\n",
    "print(lr.predict(X_pred))\n",
    "\n",
    "X_pred = np.linspace(start = 0, stop = 3000, num= 100).reshape(-1,1)\n",
    "y_pred = lr.predict_proba(X_pred)\n"
   ]
  },
  {
   "cell_type": "code",
   "execution_count": 54,
   "metadata": {},
   "outputs": [
    {
     "data": {
      "text/plain": [
       "Text(0,0.5,'Probability')"
      ]
     },
     "execution_count": 54,
     "metadata": {},
     "output_type": "execute_result"
    },
    {
     "data": {
      "image/png": "[encoded data removed]",
      "text/plain": [
       "<matplotlib.figure.Figure at 0x7f5efcc398d0>"
      ]
     },
     "metadata": {},
     "output_type": "display_data"
    }
   ],
   "source": [
    "import matplotlib.pyplot as plt\n",
    "%matplotlib inline\n",
    "plt.plot(X, y, 'or', mfc='none');\n",
    "plt.plot(X_pred, y_pred[:,1], '-b');\n",
    "plt.xlabel('Balance');\n",
    "plt.ylabel('Probability')"
   ]
  },
  {
   "cell_type": "markdown",
   "metadata": {},
   "source": [
    "### Quadratic discriminant\n",
    "\n",
    "More complex to apply the function on the dataset but it might be more accurate"
   ]
  },
  {
   "cell_type": "code",
   "execution_count": 60,
   "metadata": {},
   "outputs": [
    {
     "name": "stdout",
     "output_type": "stream",
     "text": [
      "[[ 0.89830669  0.10169331]\n",
      " [ 0.47945471  0.52054529]]\n"
     ]
    }
   ],
   "source": [
    "from sklearn.discriminant_analysis import QuadraticDiscriminantAnalysis\n",
    "# Make sure you feed the data in the right shape  \n",
    "X = info[['balance']]\n",
    "y = info['default_factorization']\n",
    "qda = QuadraticDiscriminantAnalysis()\n",
    "qda.fit(X,y)\n",
    "\n",
    "X_pred = np.array([1500,2000]).reshape(-1,1)\n",
    "print(qda.predict_proba(X_pred))"
   ]
  },
  {
   "cell_type": "markdown",
   "metadata": {},
   "source": [
    "### Linear Discrim\n",
    "\n",
    "X | Y"
   ]
  },
  {
   "cell_type": "code",
   "execution_count": 61,
   "metadata": {},
   "outputs": [
    {
     "name": "stdout",
     "output_type": "stream",
     "text": [
      "[[ 0.9119783   0.0880217 ]\n",
      " [ 0.50986471  0.49013529]]\n"
     ]
    }
   ],
   "source": [
    "from sklearn.discriminant_analysis import LinearDiscriminantAnalysis\n",
    "# Make sure you feed the data in the right shape  \n",
    "X = info[['balance']]\n",
    "y = info['default_factorization']\n",
    "lda = LinearDiscriminantAnalysis()\n",
    "lda.fit(X,y)\n",
    "X_pred = np.array([1500, 2000]).reshape(-1,1)\n",
    "print(lda.predict_proba(X_pred))\n"
   ]
  },
  {
   "cell_type": "markdown",
   "metadata": {},
   "source": [
    "### Logistic Regre"
   ]
  },
  {
   "cell_type": "code",
   "execution_count": 62,
   "metadata": {},
   "outputs": [
    {
     "name": "stdout",
     "output_type": "stream",
     "text": [
      "[[ 0.9119783   0.0880217 ]\n",
      " [ 0.50986471  0.49013529]]\n"
     ]
    }
   ],
   "source": [
    "from sklearn.linear_model import LogisticRegression\n",
    "\n",
    "X = info[['balance']]\n",
    "y = info['default_factorization']\n",
    "lr = LogisticRegression()\n",
    "lr.fit(X,y)\n",
    "X_pred = np.array([1500, 2000]).reshape(-1,1)\n",
    "print(lda.predict_proba(X_pred))"
   ]
  },
  {
   "cell_type": "code",
   "execution_count": null,
   "metadata": {
    "collapsed": true
   },
   "outputs": [],
   "source": []
  }
 ],
 "metadata": {
  "kernelspec": {
   "display_name": "Python 3",
   "language": "python",
   "name": "python3"
  },
  "language_info": {
   "codemirror_mode": {
    "name": "ipython",
    "version": 3
   },
   "file_extension": ".py",
   "mimetype": "text/x-python",
   "name": "python",
   "nbconvert_exporter": "python",
   "pygments_lexer": "ipython3",
   "version": "3.6.3"
  }
 },
 "nbformat": 4,
 "nbformat_minor": 2
}
