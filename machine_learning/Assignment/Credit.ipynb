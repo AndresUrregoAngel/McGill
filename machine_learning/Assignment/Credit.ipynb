{
 "cells": [
  {
   "cell_type": "markdown",
   "metadata": {},
   "source": [
    "#### Asigment 2\n",
    "\n",
    "Student: Andres Urrego Angel\n",
    "\n",
    "Course: Computational Applied Statistics\n",
    "\n",
    "###### Deployement process\n",
    "1. FIrst of all the dataset is loaded in a dataframe, then I created a new dataframe 'X' to allocate the predictors 'Income', 'Limit', 'Rating', 'Cards', 'Age', and 'Education'. Finally I print a sample data along with a description of the predictors to know deeper the trend.\n",
    "\n",
    "***Important notes***\n",
    "\n",
    " * I have defined a method binarize data to transform the values of a column ('balance')\n",
    " * I add the new colum target 'y' to the dataframe X"
   ]
  },
  {
   "cell_type": "code",
   "execution_count": 1,
   "metadata": {},
   "outputs": [
    {
     "name": "stdout",
     "output_type": "stream",
     "text": [
      "    Income  Limit  Rating  Cards  Age  Education  Balance  y\n",
      "0   14.891   3606     283      2   34         11      333  0\n",
      "1  106.025   6645     483      3   82         15      903  0\n",
      "2  104.593   7075     514      4   71         11      580  0\n",
      "3  148.924   9504     681      3   36         11      964  0\n",
      "4   55.882   4897     357      2   68         16      331  0\n"
     ]
    },
    {
     "data": {
      "text/html": [
       "<div>\n",
       "<style>\n",
       "    .dataframe thead tr:only-child th {\n",
       "        text-align: right;\n",
       "    }\n",
       "\n",
       "    .dataframe thead th {\n",
       "        text-align: left;\n",
       "    }\n",
       "\n",
       "    .dataframe tbody tr th {\n",
       "        vertical-align: top;\n",
       "    }\n",
       "</style>\n",
       "<table border=\"1\" class=\"dataframe\">\n",
       "  <thead>\n",
       "    <tr style=\"text-align: right;\">\n",
       "      <th></th>\n",
       "      <th>Income</th>\n",
       "      <th>Limit</th>\n",
       "      <th>Rating</th>\n",
       "      <th>Cards</th>\n",
       "      <th>Age</th>\n",
       "      <th>Education</th>\n",
       "      <th>Balance</th>\n",
       "      <th>y</th>\n",
       "    </tr>\n",
       "  </thead>\n",
       "  <tbody>\n",
       "    <tr>\n",
       "      <th>count</th>\n",
       "      <td>400.000000</td>\n",
       "      <td>400.000000</td>\n",
       "      <td>400.000000</td>\n",
       "      <td>400.000000</td>\n",
       "      <td>400.000000</td>\n",
       "      <td>400.000000</td>\n",
       "      <td>400.000000</td>\n",
       "      <td>400.000000</td>\n",
       "    </tr>\n",
       "    <tr>\n",
       "      <th>mean</th>\n",
       "      <td>45.218885</td>\n",
       "      <td>4735.600000</td>\n",
       "      <td>354.940000</td>\n",
       "      <td>2.957500</td>\n",
       "      <td>55.667500</td>\n",
       "      <td>13.450000</td>\n",
       "      <td>520.015000</td>\n",
       "      <td>0.022500</td>\n",
       "    </tr>\n",
       "    <tr>\n",
       "      <th>std</th>\n",
       "      <td>35.244273</td>\n",
       "      <td>2308.198848</td>\n",
       "      <td>154.724143</td>\n",
       "      <td>1.371275</td>\n",
       "      <td>17.249807</td>\n",
       "      <td>3.125207</td>\n",
       "      <td>459.758877</td>\n",
       "      <td>0.148489</td>\n",
       "    </tr>\n",
       "    <tr>\n",
       "      <th>min</th>\n",
       "      <td>10.354000</td>\n",
       "      <td>855.000000</td>\n",
       "      <td>93.000000</td>\n",
       "      <td>1.000000</td>\n",
       "      <td>23.000000</td>\n",
       "      <td>5.000000</td>\n",
       "      <td>0.000000</td>\n",
       "      <td>0.000000</td>\n",
       "    </tr>\n",
       "    <tr>\n",
       "      <th>25%</th>\n",
       "      <td>21.007250</td>\n",
       "      <td>3088.000000</td>\n",
       "      <td>247.250000</td>\n",
       "      <td>2.000000</td>\n",
       "      <td>41.750000</td>\n",
       "      <td>11.000000</td>\n",
       "      <td>68.750000</td>\n",
       "      <td>0.000000</td>\n",
       "    </tr>\n",
       "    <tr>\n",
       "      <th>50%</th>\n",
       "      <td>33.115500</td>\n",
       "      <td>4622.500000</td>\n",
       "      <td>344.000000</td>\n",
       "      <td>3.000000</td>\n",
       "      <td>56.000000</td>\n",
       "      <td>14.000000</td>\n",
       "      <td>459.500000</td>\n",
       "      <td>0.000000</td>\n",
       "    </tr>\n",
       "    <tr>\n",
       "      <th>75%</th>\n",
       "      <td>57.470750</td>\n",
       "      <td>5872.750000</td>\n",
       "      <td>437.250000</td>\n",
       "      <td>4.000000</td>\n",
       "      <td>70.000000</td>\n",
       "      <td>16.000000</td>\n",
       "      <td>863.000000</td>\n",
       "      <td>0.000000</td>\n",
       "    </tr>\n",
       "    <tr>\n",
       "      <th>max</th>\n",
       "      <td>186.634000</td>\n",
       "      <td>13913.000000</td>\n",
       "      <td>982.000000</td>\n",
       "      <td>9.000000</td>\n",
       "      <td>98.000000</td>\n",
       "      <td>20.000000</td>\n",
       "      <td>1999.000000</td>\n",
       "      <td>1.000000</td>\n",
       "    </tr>\n",
       "  </tbody>\n",
       "</table>\n",
       "</div>"
      ],
      "text/plain": [
       "           Income         Limit      Rating       Cards         Age  \\\n",
       "count  400.000000    400.000000  400.000000  400.000000  400.000000   \n",
       "mean    45.218885   4735.600000  354.940000    2.957500   55.667500   \n",
       "std     35.244273   2308.198848  154.724143    1.371275   17.249807   \n",
       "min     10.354000    855.000000   93.000000    1.000000   23.000000   \n",
       "25%     21.007250   3088.000000  247.250000    2.000000   41.750000   \n",
       "50%     33.115500   4622.500000  344.000000    3.000000   56.000000   \n",
       "75%     57.470750   5872.750000  437.250000    4.000000   70.000000   \n",
       "max    186.634000  13913.000000  982.000000    9.000000   98.000000   \n",
       "\n",
       "        Education      Balance           y  \n",
       "count  400.000000   400.000000  400.000000  \n",
       "mean    13.450000   520.015000    0.022500  \n",
       "std      3.125207   459.758877    0.148489  \n",
       "min      5.000000     0.000000    0.000000  \n",
       "25%     11.000000    68.750000    0.000000  \n",
       "50%     14.000000   459.500000    0.000000  \n",
       "75%     16.000000   863.000000    0.000000  \n",
       "max     20.000000  1999.000000    1.000000  "
      ]
     },
     "execution_count": 1,
     "metadata": {},
     "output_type": "execute_result"
    }
   ],
   "source": [
    "import pandas as pd\n",
    "pd.options.mode.chained_assignment = None\n",
    "\n",
    "# Method to binarize a column\n",
    "def binarize_data(field):\n",
    "    values = []\n",
    "    for number in field:\n",
    "        if (number > 1500):\n",
    "             value = 1\n",
    "        else:\n",
    "            value = 0\n",
    "        values.append(value)        \n",
    "    return values\n",
    "\n",
    "\n",
    "#Read the file \n",
    "Data = pd.read_csv('Credit.csv')\n",
    "df = Data[['Income', 'Limit', 'Rating', 'Cards', 'Age', 'Education','Balance']] # Create the dataframe X with the predictors required\n",
    "\n",
    "# Binarize the column Balance and join it to the dataframe X\n",
    "balance_to_binarize = Data['Balance']\n",
    "balance_y = (binarize_data(balance_to_binarize))\n",
    "df['y'] =  binarize_data(Data['Balance'])\n",
    "\n",
    "# Few validations for a sample data and descriptions\n",
    "print(df.head(n = 5))\n",
    "df.describe()"
   ]
  },
  {
   "cell_type": "markdown",
   "metadata": {},
   "source": [
    "##### Deploy prediction models\n",
    "\n",
    "I deploy a linear regression model for predictors picked out in the dataframe X and the target is the new binarized column 'Balance'. For this purpose I use the library sklearn.\n",
    "\n",
    "#### Linear Regression"
   ]
  },
  {
   "cell_type": "code",
   "execution_count": 2,
   "metadata": {},
   "outputs": [
    {
     "data": {
      "text/plain": [
       "LinearRegression(copy_X=True, fit_intercept=True, n_jobs=1, normalize=False)"
      ]
     },
     "execution_count": 2,
     "metadata": {},
     "output_type": "execute_result"
    }
   ],
   "source": [
    "from sklearn.linear_model import LinearRegression\n",
    "\n",
    "lr = LinearRegression()\n",
    "lr.fit(X= df[['Income', 'Limit', 'Rating', 'Cards', 'Age', 'Education']], y = df['y'])"
   ]
  },
  {
   "cell_type": "markdown",
   "metadata": {},
   "source": [
    "#### Linear Discriminant"
   ]
  },
  {
   "cell_type": "code",
   "execution_count": 3,
   "metadata": {},
   "outputs": [
    {
     "data": {
      "text/plain": [
       "LinearDiscriminantAnalysis(n_components=None, priors=None, shrinkage=None,\n",
       "              solver='svd', store_covariance=False, tol=0.0001)"
      ]
     },
     "execution_count": 3,
     "metadata": {},
     "output_type": "execute_result"
    }
   ],
   "source": [
    "from sklearn.discriminant_analysis import LinearDiscriminantAnalysis\n",
    "lda = LinearDiscriminantAnalysis()\n",
    "X = df[['Income', 'Limit', 'Rating', 'Cards', 'Age', 'Education']]\n",
    "y = df['y']\n",
    "lda.fit(X,y)"
   ]
  },
  {
   "cell_type": "markdown",
   "metadata": {},
   "source": [
    "#### Cuadratic Discriminant"
   ]
  },
  {
   "cell_type": "code",
   "execution_count": 4,
   "metadata": {},
   "outputs": [
    {
     "data": {
      "text/plain": [
       "QuadraticDiscriminantAnalysis(priors=None, reg_param=0.0,\n",
       "               store_covariance=False, store_covariances=None, tol=0.0001)"
      ]
     },
     "execution_count": 4,
     "metadata": {},
     "output_type": "execute_result"
    }
   ],
   "source": [
    "from sklearn.discriminant_analysis import QuadraticDiscriminantAnalysis\n",
    "qda = QuadraticDiscriminantAnalysis()\n",
    "X = df[['Income', 'Limit', 'Rating', 'Cards', 'Age', 'Education']]\n",
    "y = df['y']\n",
    "qda.fit(X,y)\n"
   ]
  },
  {
   "cell_type": "markdown",
   "metadata": {
    "collapsed": true
   },
   "source": [
    "##### Perform predictions\n",
    "\n",
    "Based on the assignment, once I have setup the three models above is time to deploy a predictions for different predictors values considering the below X's:\n",
    "\n",
    "- x1= 'Income' = 63, 'Limit' = 8100, 'Rating' = 600, 'Cards' = 4, 'Age' = 30, 'Education' =14\n",
    "\n",
    "- x2= 'Income' = 186, 'Limit' = 13414, 'Rating' = 950, 'Cards' = 2, 'Age' = 41, 'Education' =13 \n",
    "\n",
    "LR : Linear Regression\n",
    "\n",
    "LD : Linear Discriminant\n",
    "\n",
    "CD : Cuadratic Discriminant"
   ]
  },
  {
   "cell_type": "code",
   "execution_count": 15,
   "metadata": {},
   "outputs": [
    {
     "name": "stdout",
     "output_type": "stream",
     "text": [
      "----------Linear Regression----------\n",
      "LR - based on X1 the balance prediction is: [ 0.14925515]\n",
      "LR - based on X2 the balance prediction is: [ 0.25937594]\n",
      "----------Linear Discriminant----------\n",
      "LD - based on X1 the balance prediction is: [[ 0.72741979  0.27258021]]\n",
      "LD - based on X2 the balance prediction is: [[ 0.00721199  0.99278801]]\n",
      "----------Quadratic Discriminant----------\n",
      "CD - based on X1 the balance prediction is: [[  1.51455739e-154   1.00000000e+000]]\n",
      "CD - based on X2 the balance prediction is: [[  7.83057752e-04   9.99216942e-01]]\n"
     ]
    }
   ],
   "source": [
    "import numpy as np\n",
    "\n",
    "predictors1 = np.array([63,810,600,4,30,14])\n",
    "predictors2 = np.array([186,13414,950,2,41,13])\n",
    "\n",
    "#Linear Regression\n",
    "print('-'*10+'Linear Regression'+'-'*10)\n",
    "print('LR - based on X1 the balance prediction is: {}'.format(lr.predict(predictors1.reshape(1,6))))\n",
    "print('LR - based on X2 the balance prediction is: {}'.format(lr.predict(predictors2.reshape(1,6))))\n",
    "\n",
    "#Linear Discriminant\n",
    "print('-'*10+'Linear Discriminant'+'-'*10)\n",
    "print('LD - based on X1 the balance prediction is: {}'.format(lda.predict_proba(predictors1.reshape(-1,6))))\n",
    "print('LD - based on X2 the balance prediction is: {}'.format(lda.predict_proba(predictors2.reshape(-1,6))))\n",
    "\n",
    "#Quadratic Discriminant\n",
    "print('-'*10+'Quadratic Discriminant'+'-'*10)\n",
    "print('CD - based on X1 the balance prediction is: {}'.format(qda.predict_proba(predictors1.reshape(-1,6))))\n",
    "print('CD - based on X2 the balance prediction is: {}'.format(qda.predict_proba(predictors2.reshape(-1,6))))"
   ]
  },
  {
   "cell_type": "markdown",
   "metadata": {},
   "source": [
    "#### Conclusion\n",
    "\n",
    "After generate the outcome for each model based in the two X's inputs is clearly remarkable that the deployment was performed from the most simpliest model to the most complex in terms of troughouput.\n",
    "\n",
    "The linear regression generates a prediction even un redeable in terms of accuracy therefore based in this model likely the target **Y** (Balance) would be zero.\n",
    "\n",
    "In the other hand the linear discriminant is closer to an accurate prediction and the **X2** seems to be closer to came up 1 over the **X1**.\n",
    "\n",
    "Finally the last prediction based in quadratic discriminant shows up how surely based in a more complex but effective calculation the **X2** has more chance to become 1 for the target **Y** (balance)."
   ]
  },
  {
   "cell_type": "code",
   "execution_count": null,
   "metadata": {
    "collapsed": true
   },
   "outputs": [],
   "source": []
  }
 ],
 "metadata": {
  "kernelspec": {
   "display_name": "Python 3",
   "language": "python",
   "name": "python3"
  },
  "language_info": {
   "codemirror_mode": {
    "name": "ipython",
    "version": 3
   },
   "file_extension": ".py",
   "mimetype": "text/x-python",
   "name": "python",
   "nbconvert_exporter": "python",
   "pygments_lexer": "ipython3",
   "version": "3.6.3"
  }
 },
 "nbformat": 4,
 "nbformat_minor": 2
}
