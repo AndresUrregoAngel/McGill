{
 "cells": [
  {
   "cell_type": "markdown",
   "metadata": {
    "scrolled": true
   },
   "source": [
    "## Assignment 1\n",
    "#### Computational Applied Statisctics\n",
    "#### Andres Urrego Angel\n",
    "\n",
    "This analytical report is based in a dataset called income.csv that contains information about how the education years and the seniority can impact in the income for employees.\n",
    "\n",
    "The report is spread in the following approaches:\n",
    "* Analyze the dataset (variables, measures, data)\n",
    "* Predict salary based on years of education (linear regression)\n",
    "* PLot graph of income vs education\n",
    "* Prediction of income based in Education and Seniority\n",
    "* Conclusion\n",
    "\n",
    "#### Explore dataset:"
   ]
  },
  {
   "cell_type": "code",
   "execution_count": 1,
   "metadata": {},
   "outputs": [
    {
     "name": "stdout",
     "output_type": "stream",
     "text": [
      "Sample data verification to recognize variables(predictors) and the target:\n",
      "    Unnamed: 0  Education   Seniority     Income\n",
      "21          22  14.551724  137.931034  53.532106\n",
      "8            9  20.344828   88.275862  90.006327\n",
      "24          25  21.586207   20.000000  78.805784\n",
      "18          19  16.620690  175.172414  70.105096\n",
      "12          13  11.655172   20.000000  27.982505\n",
      "13          14  16.620690   94.482759  66.601792\n",
      "0            1  21.586207  113.103448  99.917173\n",
      "14          15  10.000000  187.586207  41.531992\n",
      "25          26  11.241379   44.827586  21.388561\n",
      "1            2  18.275862  119.310345  92.579135\n",
      "************************************************************\n",
      "Few data measures to check out the mean, stnd, min, max, etc.:\n",
      "       Unnamed: 0  Education   Seniority     Income\n",
      "count   30.000000  30.000000   30.000000  30.000000\n",
      "mean    15.500000  16.386207   93.862069  62.744733\n",
      "std      8.803408   3.810622   55.715623  27.013285\n",
      "min      1.000000  10.000000   20.000000  17.613593\n",
      "25%      8.250000  12.482759   44.827586  36.392043\n",
      "50%     15.500000  17.034483   94.482759  70.804791\n",
      "75%     22.750000  19.931034  133.275862  85.930608\n",
      "max     30.000000  21.586207  187.586207  99.917173\n",
      "************************************************************\n",
      "The target mean is: 62.74473297685128\n"
     ]
    }
   ],
   "source": [
    "import pandas as pd\n",
    "import numpy as np\n",
    "\n",
    "#Exploration stage fro the dataset Income\n",
    "\n",
    "income = pd.read_csv('ycbs255/jupyter/data/Income2.csv')  # Load the data from the source file\n",
    "\n",
    "print('Sample data verification to recognize variables(predictors) and the target:')\n",
    "print(income.sample(n=10))  # check a sample data \n",
    "print('*'*60)\n",
    "print('Few data measures to check out the mean, stnd, min, max, etc.:')\n",
    "print(income.describe())   # Verify a few measures, is remarkable the mean for the goal column Income\n",
    "print('*'*60)\n",
    "print('The target mean is: {}'.format(np.mean(income['Income']))) # Confirm the mean for the Y (target) with numpy"
   ]
  },
  {
   "cell_type": "markdown",
   "metadata": {},
   "source": [
    "#### Prediction of Salary:\n",
    "Based on years of education I deploy a model based in a linear regression to predict the behavior of income. For this prediction the value of Eduction in terms of years is 18.\n",
    "\n"
   ]
  },
  {
   "cell_type": "code",
   "execution_count": 2,
   "metadata": {},
   "outputs": [
    {
     "name": "stdout",
     "output_type": "stream",
     "text": [
      "The value of income when Education years is 18 rise: [ 73.0522897]\n"
     ]
    }
   ],
   "source": [
    "from sklearn.linear_model import LinearRegression\n",
    "\n",
    "# Build model\n",
    "lr = LinearRegression()\n",
    "lr.fit(X = income[ ['Education'] ], y = income['Income'])\n",
    "\n",
    "# Entry the years education value for prediction\n",
    "x = np.array([18] )\n",
    "\n",
    "# Get prediction outcome\n",
    "print('The value of income when Education years is 18 rise: {}'.format(lr.predict(x.reshape(1,1))))"
   ]
  },
  {
   "cell_type": "markdown",
   "metadata": {
    "collapsed": true
   },
   "source": [
    "#### Plot graph for education Vs Income\n",
    "I have created a plot to validate the relation between the predictor years of education and income in order to verify the dispertion points and the behavior of the model linear regression."
   ]
  },
  {
   "cell_type": "code",
   "execution_count": 3,
   "metadata": {},
   "outputs": [
    {
     "name": "stdout",
     "output_type": "stream",
     "text": [
      "the value of intercepter in the model is:-41.91661220978736\n",
      "the value of coefition for the model is:[ 6.38716122]\n"
     ]
    },
    {
     "data": {
      "image/png": "[encoded data removed]",
      "text/plain": [
       "<matplotlib.figure.Figure at 0x7fdefc1176d8>"
      ]
     },
     "metadata": {},
     "output_type": "display_data"
    }
   ],
   "source": [
    "import matplotlib.pyplot as plt\n",
    "%matplotlib inline\n",
    "\n",
    "# BUild the linear regression model\n",
    "\n",
    "lr = LinearRegression()\n",
    "lr.fit(X = income[ ['Education'] ], y = income['Income'])\n",
    "print('the value of intercepter in the model is:{}'.format(lr.intercept_))\n",
    "print('the value of coefition for the model is:{}'.format(lr.coef_))\n",
    "\n",
    "# Plot visualization \n",
    "plt.plot(income.Education, income.Income, 'or', mfc='none');\n",
    "\n",
    "# add a regression line\n",
    "plt.plot(income.Education, lr.intercept_+lr.coef_*income.Education, \"-b\");\n",
    "plt.xlabel('Education');\n",
    "plt.ylabel('Income');"
   ]
  },
  {
   "cell_type": "markdown",
   "metadata": {},
   "source": [
    "I want to get a heatmap of correlation among the predictors 'Seniority' and 'Education' Vs the target 'Income'.Therefore I have created a the map with a fucntion called matshow() in **matplotlib**. The relation among 'Senitority' and 'Income' is stronger and this is why the green color among these two variables is more remarkable."
   ]
  },
  {
   "cell_type": "code",
   "execution_count": 8,
   "metadata": {
    "scrolled": true
   },
   "outputs": [
    {
     "data": {
      "text/plain": [
       "([<matplotlib.axis.YTick at 0x7fdec77d3c18>,\n",
       "  <matplotlib.axis.YTick at 0x7fdec73c20f0>,\n",
       "  <matplotlib.axis.YTick at 0x7fdec760acc0>,\n",
       "  <matplotlib.axis.YTick at 0x7fdec77de908>],\n",
       " <a list of 4 Text yticklabel objects>)"
      ]
     },
     "execution_count": 8,
     "metadata": {},
     "output_type": "execute_result"
    },
    {
     "data": {
      "image/png": "[encoded data removed]",
      "text/plain": [
       "<matplotlib.figure.Figure at 0x7fdec7403240>"
      ]
     },
     "metadata": {},
     "output_type": "display_data"
    }
   ],
   "source": [
    "#Correlation\n",
    "corr = income.corr()\n",
    "fig,ax = plt.subplots(figsize=(10,10))\n",
    "ax.matshow(corr)\n",
    "\n",
    "plt.title('Correlation Education, Seniority againts Income')\n",
    "plt.xticks(range(len(corr.columns)), corr.columns)\n",
    "plt.yticks(range(len(corr.columns)), corr.columns)\n"
   ]
  },
  {
   "cell_type": "markdown",
   "metadata": {},
   "source": [
    "#### Prediction based in Seniority and  Education\n",
    "In  this prediction I deploy the regression model for two predictors 'Seniority' and 'Education'. Finally I get a new  prediction. Whithin the prediction I include a first execution when the seniority is greater and then when the weight is more on education.\n",
    "\n",
    "The results are slightly different get greater weight on the second execution when the Education is slightly greater."
   ]
  },
  {
   "cell_type": "code",
   "execution_count": null,
   "metadata": {},
   "outputs": [],
   "source": [
    "lr = LinearRegression()\n",
    "lr.fit(X = income[ ['Education' , 'Seniority']], y = income['Income'])\n",
    "x = np.array([19,50]) # greater the predictor Seniority than Education\n",
    "z = np.array([20,18]) # greater the predictor Education than Seniority\n",
    "print('The value of income when the seniority is greater: {}'.format(lr.predict(x.reshape(1,2))))\n",
    "print('The value of income whit a greater education: {}'.format(lr.predict(z.reshape(1,2))))"
   ]
  },
  {
   "cell_type": "markdown",
   "metadata": {},
   "source": [
    "### Conclusion\n",
    "\n",
    "After the exploration of the dataset and deployment of a regression model to predict the behavior of the target income. Is very remarkable that although the correlation dicts that the predictor **seniority** is heavier that **education** the prediction of the model not match completely with this statement due the income was slightly greater when the education is larger.\n",
    "\n",
    "In the other hand, is complicated  aim all the confidence in a model with just 30 observations to predict a target. In this case would be required extend greater the observations for the dataset in order to make smarter the model and likely more accurate.\n"
   ]
  },
  {
   "cell_type": "code",
   "execution_count": null,
   "metadata": {
    "collapsed": true
   },
   "outputs": [],
   "source": []
  }
 ],
 "metadata": {
  "kernelspec": {
   "display_name": "Python 3",
   "language": "python",
   "name": "python3"
  },
  "language_info": {
   "codemirror_mode": {
    "name": "ipython",
    "version": 3
   },
   "file_extension": ".py",
   "mimetype": "text/x-python",
   "name": "python",
   "nbconvert_exporter": "python",
   "pygments_lexer": "ipython3",
   "version": "3.6.3"
  }
 },
 "nbformat": 4,
 "nbformat_minor": 2
}
